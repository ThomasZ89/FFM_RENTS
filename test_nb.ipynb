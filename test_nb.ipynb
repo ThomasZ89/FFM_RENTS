{
 "cells": [
  {
   "cell_type": "code",
   "execution_count": 21,
   "metadata": {},
   "outputs": [],
   "source": [
    "import pandas as pd\n",
    "a = pd.read_csv(r'data/All_Housing_Links.csv')"
   ]
  },
  {
   "cell_type": "code",
   "execution_count": 55,
   "metadata": {},
   "outputs": [
    {
     "data": {
      "text/html": [
       "<div>\n",
       "<style scoped>\n",
       "    .dataframe tbody tr th:only-of-type {\n",
       "        vertical-align: middle;\n",
       "    }\n",
       "\n",
       "    .dataframe tbody tr th {\n",
       "        vertical-align: top;\n",
       "    }\n",
       "\n",
       "    .dataframe thead th {\n",
       "        text-align: right;\n",
       "    }\n",
       "</style>\n",
       "<table border=\"1\" class=\"dataframe\">\n",
       "  <thead>\n",
       "    <tr style=\"text-align: right;\">\n",
       "      <th></th>\n",
       "      <th>data</th>\n",
       "      <th>data2</th>\n",
       "    </tr>\n",
       "  </thead>\n",
       "  <tbody>\n",
       "    <tr>\n",
       "      <th>0</th>\n",
       "      <td>l_dass_2</td>\n",
       "      <td>dasda</td>\n",
       "    </tr>\n",
       "    <tr>\n",
       "      <th>1</th>\n",
       "      <td>_1</td>\n",
       "      <td>_1</td>\n",
       "    </tr>\n",
       "    <tr>\n",
       "      <th>2</th>\n",
       "      <td>_2</td>\n",
       "      <td>_2</td>\n",
       "    </tr>\n",
       "  </tbody>\n",
       "</table>\n",
       "</div>"
      ],
      "text/plain": [
       "       data  data2\n",
       "0  l_dass_2  dasda\n",
       "1        _1     _1\n",
       "2        _2     _2"
      ]
     },
     "execution_count": 55,
     "metadata": {},
     "output_type": "execute_result"
    }
   ],
   "source": [
    "df = pd.DataFrame({\"data\": [\"l_dass_2\",\"_1\",\"_2\"], \"data2\": [\"dasda\",\"_1\",\"_2\"]})\n",
    "df"
   ]
  },
  {
   "cell_type": "code",
   "execution_count": 58,
   "metadata": {},
   "outputs": [
    {
     "name": "stdout",
     "output_type": "stream",
     "text": [
      "1\n",
      "2\n",
      "3\n",
      "4\n"
     ]
    }
   ],
   "source": [
    "for i in range(1,5):\n",
    "    print(i)"
   ]
  },
  {
   "cell_type": "code",
   "execution_count": 57,
   "metadata": {},
   "outputs": [
    {
     "name": "stdout",
     "output_type": "stream",
     "text": [
      "l_dass_2\n",
      "_1\n",
      "_2\n"
     ]
    }
   ],
   "source": [
    "import re\n",
    "for row in df.itertuples():\n",
    "    if \"_\" in row[1]:\n",
    "        print(row[1])"
   ]
  },
  {
   "cell_type": "code",
   "execution_count": 15,
   "metadata": {},
   "outputs": [],
   "source": [
    "\n",
    "import os\n",
    "os.getcwd()\n",
    "os.chdir(r'c:/Users/thomas.zoellinger/PycharmProjects/rent')"
   ]
  },
  {
   "cell_type": "code",
   "execution_count": 19,
   "metadata": {},
   "outputs": [],
   "source": [
    "from scrape_funcs import *\n",
    "\n",
    "house_links = get_housing_links()\n"
   ]
  },
  {
   "cell_type": "code",
   "execution_count": 2,
   "metadata": {},
   "outputs": [],
   "source": [
    "zip_my_files()\n"
   ]
  },
  {
   "cell_type": "code",
   "execution_count": 7,
   "metadata": {},
   "outputs": [
    {
     "name": "stdout",
     "output_type": "stream",
     "text": [
      "https://www.wg-gesucht.de/wg-zimmer-in-Frankfurt-am-Main-westend-sud.8292970.html.htmll8809424.html\r"
     ]
    }
   ],
   "source": [
    "cap_txt =\"Alle Webseiten nutzen daher Captchas, um zu prüfen, ob beispielsweise ein Formular\"\n",
    "cap_txt2 = \"Vermutlich ist das Objekt bereits vergeben.\"\n",
    "cap_txt3 =\"Wenn Sie glauben, dass dies ein Fehler im System ist, dann schreiben Sie doch bitte eine kurze Nachricht\"\n",
    "\n",
    "for i in range(600,900):\n",
    "    if len(house_links) < 1:\n",
    "        break\n",
    "    name = house_links.iloc[i]\n",
    "    stem = \"https://www.wg-gesucht.de/wg-zimmer-in-Frankfurt-am-Main-\"\n",
    "    link =  stem + name + \".html\"\n",
    "    path = r\"data\\raw\\\\\"+name + \".txt\"\n",
    "    time.sleep(120)\n",
    "    try:\n",
    "        r = get_html_request(link)\n",
    "        if cap_txt in r.text:\n",
    "            print(\"bot\",  end='\\r')\n",
    "        elif cap_txt2 in r.text:\n",
    "            print(\"vergeben\",  end='\\r')\n",
    "        elif cap_txt3 in r.text:\n",
    "            print(\"nicht gefunden\",  end='\\r')\n",
    "        else:\n",
    "            print(link,  end='\\r')\n",
    "        with open(path, 'w', encoding=\"utf-8\") as file:\n",
    "            file.write(r.text) \n",
    "    except:\n",
    "        print(\"error\",  end='\\r')"
   ]
  },
  {
   "cell_type": "code",
   "execution_count": null,
   "metadata": {},
   "outputs": [],
   "source": []
  }
 ],
 "metadata": {
  "interpreter": {
   "hash": "1050d3ed987d661b2d14eb8787cace9e0ad6c916f8ec9b4a2118144ab1d946bf"
  },
  "kernelspec": {
   "display_name": "Python 3.8.12 ('rent')",
   "language": "python",
   "name": "python3"
  },
  "language_info": {
   "codemirror_mode": {
    "name": "ipython",
    "version": 3
   },
   "file_extension": ".py",
   "mimetype": "text/x-python",
   "name": "python",
   "nbconvert_exporter": "python",
   "pygments_lexer": "ipython3",
   "version": "3.8.12"
  },
  "orig_nbformat": 4
 },
 "nbformat": 4,
 "nbformat_minor": 2
}
